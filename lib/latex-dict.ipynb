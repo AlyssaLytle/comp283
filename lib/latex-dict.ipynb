{
 "cells": [
  {
   "attachments": {},
   "cell_type": "markdown",
   "metadata": {},
   "source": [
    "# Update The Latex Guide Page based on the tex-guide.txt File"
   ]
  },
  {
   "cell_type": "code",
   "execution_count": 2,
   "metadata": {},
   "outputs": [],
   "source": [
    "TEX = \"tex-guide.txt\"\n",
    "TAB = \"    \"\n",
    "\n",
    "# Read Tex Guide\n",
    "f = open(TEX, \"r\")\n",
    "lines = f.readlines()\n",
    "f.close()\n",
    "\n",
    "# Make Page Header\n",
    "page = \"---\\nlayout: default\\ntitle: LaTeX Guide\\ncontributors: Alyssa Byrnes\\n---\\n\"\n",
    "page += \"\\n# LaTeX Guide\\n\\n\"\n",
    "num_tables = 0\n",
    "\n",
    "\n",
    "for line in lines:\n",
    "    if line[0] == \"#\":\n",
    "        if num_tables > 0:\n",
    "            # End previous table, start new table\n",
    "            page += \"</table>\\n\\n\"\n",
    "        page += line\n",
    "        page += \"<table>\\n\"\n",
    "        num_tables += 1\n",
    "    else:\n",
    "        # Each line is a row of the table\n",
    "        page += TAB + \"<tr>\\n\"\n",
    "        line = line.replace(\"\\n\",\"\")\n",
    "        cols = line.split(\",\")\n",
    "        # Fill each column\n",
    "        for col in cols:\n",
    "            if \"`\" in col:\n",
    "                # Put code in <code> </code>\n",
    "                col = \"<code>\" + col[1:]\n",
    "                col = col.replace(\"`\", \"</code>\")\n",
    "            page += TAB*2 + \"<td> \" + col  + \"</td>\\n\"\n",
    "        page += TAB + \"</tr>\\n\"\n",
    "page += \"</table>\"\n",
    "\n",
    "# Write new file\n",
    "FNAME = \"../docs/calendar/latex-guide.md\"\n",
    "g = open(FNAME, \"w\")\n",
    "g.writelines(page)\n",
    "g.close()"
   ]
  }
 ],
 "metadata": {
  "kernelspec": {
   "display_name": "Python 3",
   "language": "python",
   "name": "python3"
  },
  "language_info": {
   "codemirror_mode": {
    "name": "ipython",
    "version": 3
   },
   "file_extension": ".py",
   "mimetype": "text/x-python",
   "name": "python",
   "nbconvert_exporter": "python",
   "pygments_lexer": "ipython3",
   "version": "3.12.2"
  },
  "orig_nbformat": 4
 },
 "nbformat": 4,
 "nbformat_minor": 2
}
