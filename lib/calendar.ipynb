{
 "cells": [
  {
   "cell_type": "code",
   "execution_count": null,
   "metadata": {},
   "outputs": [
    {
     "name": "stdout",
     "output_type": "stream",
     "text": [
      "Page made: /calendar/day-0.md\n"
     ]
    }
   ],
   "source": [
    "from helpers import lesson_page, make_slides\n",
    "from constants import GRADESCOPE\n",
    "\n",
    "day1_title = \"Day 0\"\n",
    "\n",
    "syl = {\"Assignment\": GRADESCOPE,  \"*(No Video for this lesson)*\": \"\"}\n",
    "syl_dict = {\"title\": \"Syllabus\", \"links\": syl}\n",
    "\n",
    "latex = {\"Assignment\": GRADESCOPE, \"*(No Video for this lesson)*\": \"\"}\n",
    "latex_dict = {\"title\": \"LaTeX\", \"links\": latex}\n",
    "\n",
    "# pc = {\"Video\" : \"https://youtu.be/Pbi7gRJn06w\", \"Slides\": make_slides(\"Pseudocode.md\", False), \"Assignment\":GRADESCOPE}\n",
    "# pc_dict = {\"title\": \"Pseudocode\", \"links\": pc}\n",
    "\n",
    "# lesson_page(day1_title, [syl_dict, latex_dict])"
   ]
  },
  {
   "cell_type": "code",
   "execution_count": 503,
   "metadata": {},
   "outputs": [
    {
     "name": "stdout",
     "output_type": "stream",
     "text": [
      "../docs/lessons/PropLogic.html\n",
      "Page made: /calendar/propositional-logic.md\n"
     ]
    }
   ],
   "source": [
    "## Propositional Logic\n",
    "page_title = \"Propositional Logic\"\n",
    "\n",
    "links = {\"Video\": \"https://youtu.be/Jf7lZ_LQ5FM\", \"Slides\" : make_slides(\"PropLogic.md\", False), \"Assignment\":GRADESCOPE}\n",
    "\n",
    "lesson_page(page_title, [{\"title\": \"Propositional Logic\", \"links\": links}])"
   ]
  },
  {
   "cell_type": "code",
   "execution_count": 504,
   "metadata": {},
   "outputs": [],
   "source": [
    "# ## Practice and Review\n",
    "# page_title = \"Practice and Review 0\"\n",
    "# lesson_page(page_title, [])"
   ]
  },
  {
   "cell_type": "code",
   "execution_count": 505,
   "metadata": {},
   "outputs": [
    {
     "name": "stdout",
     "output_type": "stream",
     "text": [
      "../docs/lessons/SetsAndTuples.html\n",
      "Page made: /calendar/sets-tuples-and-counting.md\n"
     ]
    }
   ],
   "source": [
    "## Sets, Tuples, and Counting\n",
    "page_title = \"Sets, Tuples, and Counting\"\n",
    "slides = make_slides(\"SetsAndTuples.md\", False)\n",
    "links = {\"Video\": \"https://youtu.be/89Z-Yzxisag\", \"Slides\" : slides, \"Assignment\":GRADESCOPE}\n",
    "\n",
    "lesson_page(page_title, [{\"title\": page_title, \"links\": links}])"
   ]
  },
  {
   "cell_type": "code",
   "execution_count": 506,
   "metadata": {},
   "outputs": [
    {
     "name": "stdout",
     "output_type": "stream",
     "text": [
      "../docs/lessons/Quantifiers.html\n",
      "../docs/lessons/QuantifiersCode.html\n",
      "Page made: /calendar/quantifiers.md\n"
     ]
    }
   ],
   "source": [
    "## Quantifiers\n",
    "page_title = \"Quantifiers\"\n",
    "\n",
    "slides = make_slides(\"Quantifiers.md\", False)\n",
    "q_links = {\"Video\": \"https://youtu.be/RvTMf4l3mPo\", \"Slides\" : slides, \"Assignment\":GRADESCOPE}\n",
    "slides0 = make_slides(\"QuantifiersCode.md\", False)\n",
    "coding_links = {\"Slides\": slides0, \"*(Optional Review of Coding)*\": \"\"}\n",
    "\n",
    "lesson_page(page_title, [{\"title\": page_title, \"links\": q_links}, \n",
    "                         {\"title\": \"Intro to Coding\", \"links\": coding_links}])"
   ]
  },
  {
   "cell_type": "code",
   "execution_count": 507,
   "metadata": {},
   "outputs": [
    {
     "name": "stdout",
     "output_type": "stream",
     "text": [
      "../docs/lessons/SetOperations.html\n",
      "Page made: /calendar/set-operations.md\n"
     ]
    }
   ],
   "source": [
    "## Set Operations\n",
    "page_title = \"Set Operations\"\n",
    "slides = make_slides(\"SetOperations.md\", False)\n",
    "q_links = {\"Video\": \"https://youtu.be/fo_P22I71Zc\", \"Slides\" : slides, \"Assignment\":GRADESCOPE}\n",
    "lesson_page(page_title, [{\"title\": page_title, \"links\": q_links}])"
   ]
  },
  {
   "cell_type": "code",
   "execution_count": 508,
   "metadata": {},
   "outputs": [],
   "source": [
    "# ## Practice and Review\n",
    "# page_title = \"Practice and Review 1\"\n",
    "# lesson_page(page_title, [])"
   ]
  },
  {
   "cell_type": "code",
   "execution_count": 509,
   "metadata": {},
   "outputs": [
    {
     "name": "stdout",
     "output_type": "stream",
     "text": [
      "../docs/lessons/Relations.html\n",
      "Page made: /calendar/relations.md\n"
     ]
    }
   ],
   "source": [
    "## Relations\n",
    "page_title = \"Relations\"\n",
    "slides = make_slides(\"Relations.md\", False)\n",
    "q_links = {\"Video\": \"https://youtu.be/ggpdmbRWklY\", \"Slides\" : slides, \"Assignment\":GRADESCOPE}\n",
    "lesson_page(page_title, [{\"title\": page_title, \"links\": q_links}])"
   ]
  },
  {
   "cell_type": "code",
   "execution_count": 510,
   "metadata": {},
   "outputs": [
    {
     "name": "stdout",
     "output_type": "stream",
     "text": [
      "../docs/lessons/Functions.html\n",
      "../docs/lessons/CommonFunctions.html\n",
      "Page made: /calendar/functions.md\n"
     ]
    }
   ],
   "source": [
    "## Functions\n",
    "page_title = \"Functions\"\n",
    "slides = make_slides(\"Functions.md\", False)\n",
    "common_slides = make_slides(\"CommonFunctions.md\", False)\n",
    "q_links = {\"Video\": \"https://youtu.be/TQTOa7Eq0aY\", \"Slides\" : slides, \"Assignment\":GRADESCOPE}\n",
    "q_links_common = {\"Slides\" : common_slides, \"*(No video or assignment, but go through these slides!*)\": \"\"}\n",
    "lesson_page(page_title, [{\"title\": page_title, \"links\": q_links},\n",
    "                         {\"title\": \"Common Functions\", \"links\": q_links_common}])"
   ]
  },
  {
   "cell_type": "code",
   "execution_count": 511,
   "metadata": {},
   "outputs": [],
   "source": [
    "# ## Practice and Review\n",
    "# page_title = \"Practice and Review 2\"\n",
    "# lesson_page(page_title, [])"
   ]
  },
  {
   "cell_type": "code",
   "execution_count": 512,
   "metadata": {},
   "outputs": [
    {
     "name": "stdout",
     "output_type": "stream",
     "text": [
      "../docs/lessons/NumberTheory.html\n",
      "Page made: /calendar/number-theory.md\n"
     ]
    }
   ],
   "source": [
    "## Number Theory\n",
    "page_title = \"Number Theory\"\n",
    "slides = make_slides(\"NumberTheory.md\", False)\n",
    "q_links = {\"Video\": \"https://youtu.be/SF3czh8BFmk\", \"Slides\" : slides, \"Assignment\":GRADESCOPE, \"Extra Video\": \"https://youtu.be/Xpk67YzOn5w\"}\n",
    "p_links = {\"Video\": \"https://youtu.be/Mc6DQ6CB0TA\", \"Slides\": \"/comp283/static/slides/RSA-primes.pdf\"}\n",
    "lesson_page(page_title, [{\"title\": page_title, \"links\": q_links},\n",
    "                         {\"title\": \"RSA + Prime Numbers\", \"links\": p_links }])"
   ]
  },
  {
   "cell_type": "code",
   "execution_count": 513,
   "metadata": {},
   "outputs": [
    {
     "name": "stdout",
     "output_type": "stream",
     "text": [
      "../docs/lessons/Proofs.html\n",
      "Page made: /calendar/proofs.md\n"
     ]
    }
   ],
   "source": [
    "## Proofs\n",
    "page_title = \"Proofs\"\n",
    "slides = make_slides(\"Proofs.md\", False)\n",
    "q_links = {\"Video\": \"https://youtu.be/8JT9aPLxpPk\", \"Slides\" : slides, \"Assignment\":GRADESCOPE}\n",
    "lesson_page(page_title, [{\"title\": page_title, \"links\": q_links}])"
   ]
  },
  {
   "cell_type": "code",
   "execution_count": 514,
   "metadata": {},
   "outputs": [
    {
     "name": "stdout",
     "output_type": "stream",
     "text": [
      "../docs/lessons/ProofsCont.html\n",
      "Page made: /calendar/proofs-continued.md\n"
     ]
    }
   ],
   "source": [
    "## Proofs Continued\n",
    "page_title = \"Proofs Continued\"\n",
    "slides = make_slides(\"ProofsCont.md\", False)\n",
    "q_links = {\"Video\": \"https://youtu.be/vUmOQp2vlJw\", \"Slides\" : slides, \"Assignment\":GRADESCOPE}\n",
    "lesson_page(page_title, [{\"title\": page_title, \"links\": q_links}])"
   ]
  },
  {
   "cell_type": "code",
   "execution_count": 515,
   "metadata": {},
   "outputs": [],
   "source": [
    "# ## Practice and Review\n",
    "# page_title = \"Practice and Review 3\"\n",
    "# lesson_page(page_title, [])"
   ]
  },
  {
   "cell_type": "code",
   "execution_count": 516,
   "metadata": {},
   "outputs": [
    {
     "name": "stdout",
     "output_type": "stream",
     "text": [
      "../docs/lessons/Recursion.html\n",
      "Page made: /calendar/recursion.md\n"
     ]
    }
   ],
   "source": [
    "## Recursion\n",
    "page_title = \"Recursion\"\n",
    "slides = make_slides(\"Recursion.md\", False)\n",
    "q_links = {\"Video\": \"https://youtu.be/TTBgV6I2ubQ\", \"Slides\" : slides, \"Assignment\":GRADESCOPE}\n",
    "lesson_page(page_title, [{\"title\": page_title, \"links\": q_links}])"
   ]
  },
  {
   "cell_type": "code",
   "execution_count": 517,
   "metadata": {},
   "outputs": [
    {
     "name": "stdout",
     "output_type": "stream",
     "text": [
      "../docs/lessons/Induction.html\n",
      "Page made: /calendar/induction.md\n"
     ]
    }
   ],
   "source": [
    "## Induction\n",
    "page_title = \"Induction\"\n",
    "slides = make_slides(\"Induction.md\", False)\n",
    "q_links = {\"Video\": \"https://youtu.be/IFNhAR9LVUw\", \"Slides\" : slides, \"Assignment\":GRADESCOPE}\n",
    "q_links[\"Induction Template\"] = \"/comp283/static/resources/IndTemplate.pdf\"\n",
    "q_links[\"Induction Template (Printable)\"] = \"/comp283/static/resources/IndTemplateWritable.pdf\"\n",
    "lesson_page(page_title, [{\"title\": page_title, \"links\": q_links}])"
   ]
  },
  {
   "cell_type": "code",
   "execution_count": 518,
   "metadata": {},
   "outputs": [
    {
     "name": "stdout",
     "output_type": "stream",
     "text": [
      "Page made: /calendar/analyzing-algorithms-and-invariants.md\n"
     ]
    }
   ],
   "source": [
    "## Analyzing Algorithms and Invariants\n",
    "page_title = \"Analyzing Algorithms and Invariants\"\n",
    "slides = \"/comp283/static/slides/Invariants.pdf\"\n",
    "q_links = {\"Video\": \"https://youtu.be/EG_7lK18XDk\", \"Slides\" : slides, \"Assignment\":GRADESCOPE}\n",
    "lesson_page(page_title, [{\"title\": page_title, \"links\": q_links}])"
   ]
  },
  {
   "cell_type": "code",
   "execution_count": 519,
   "metadata": {},
   "outputs": [
    {
     "name": "stdout",
     "output_type": "stream",
     "text": [
      "../docs/lessons/AnalyzingAlgs.html\n",
      "Page made: /calendar/proving-invariants.md\n"
     ]
    }
   ],
   "source": [
    "## Proving Invariants\n",
    "page_title = \"Proving Invariants\"\n",
    "slides = make_slides(\"AnalyzingAlgs.md\", False)\n",
    "q_links = {\"Video\": \"https://youtu.be/bO95yORC1Ss\", \"Slides\" : slides, \"Assignment\":GRADESCOPE}\n",
    "lesson_page(page_title, [{\"title\": page_title, \"links\": q_links}])"
   ]
  },
  {
   "cell_type": "code",
   "execution_count": 520,
   "metadata": {},
   "outputs": [
    {
     "name": "stdout",
     "output_type": "stream",
     "text": [
      "Page made: /calendar/practice-and-review-4.md\n"
     ]
    }
   ],
   "source": [
    "# ## Practice and Review\n",
    "# page_title = \"Practice and Review 4\"\n",
    "# lesson_page(page_title, [])"
   ]
  },
  {
   "cell_type": "code",
   "execution_count": 521,
   "metadata": {},
   "outputs": [
    {
     "name": "stdout",
     "output_type": "stream",
     "text": [
      "Page made: /calendar/practice-and-review-5.md\n"
     ]
    }
   ],
   "source": [
    "# ## Practice and Review\n",
    "# page_title = \"Practice and Review 5\"\n",
    "# lesson_page(page_title, [])"
   ]
  }
 ],
 "metadata": {
  "kernelspec": {
   "display_name": "Python 3",
   "language": "python",
   "name": "python3"
  },
  "language_info": {
   "codemirror_mode": {
    "name": "ipython",
    "version": 3
   },
   "file_extension": ".py",
   "mimetype": "text/x-python",
   "name": "python",
   "nbconvert_exporter": "python",
   "pygments_lexer": "ipython3",
   "version": "3.11.1"
  },
  "orig_nbformat": 4
 },
 "nbformat": 4,
 "nbformat_minor": 2
}
